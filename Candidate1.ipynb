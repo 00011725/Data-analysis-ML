{
  "metadata": {
    "language_info": {
      "codemirror_mode": {
        "name": "python",
        "version": 3
      },
      "file_extension": ".py",
      "mimetype": "text/x-python",
      "name": "python",
      "nbconvert_exporter": "python",
      "pygments_lexer": "ipython3",
      "version": "3.8"
    },
    "kernelspec": {
      "name": "python",
      "display_name": "Python (Pyodide)",
      "language": "python"
    }
  },
  "nbformat_minor": 4,
  "nbformat": 4,
  "cells": [
    {
      "cell_type": "code",
      "source": "import pandas as pd\nimport numpy as np\nfrom sklearn.model_selection import train_test_split\nfrom sklearn.preprocessing import StandardScaler\nfrom sklearn.linear_model import Lasso\nfrom sklearn.linear_model import ElasticNet\nfrom sklearn.ensemble import RandomForestRegressor\nfrom sklearn.linear_model import LinearRegression\nfrom sklearn.metrics import mean_absolute_error, mean_squared_error, r2_score\nfrom sklearn.model_selection import cross_val_predict\nimport seaborn as sns\n!pip install seaborn\nimport matplotlib.pyplot as plt\nimport math\n",
      "metadata": {
        "trusted": true
      },
      "execution_count": 50,
      "outputs": []
    },
    {
      "cell_type": "code",
      "source": "# A. Data Load\n# Load the dataset as CSV file \ndata = pd.read_csv('insurance.csv')\ndata.shape\n",
      "metadata": {
        "trusted": true
      },
      "execution_count": 15,
      "outputs": [
        {
          "execution_count": 15,
          "output_type": "execute_result",
          "data": {
            "text/plain": "(1338, 7)"
          },
          "metadata": {}
        }
      ]
    },
    {
      "cell_type": "code",
      "source": "# B. Exploratory Data Analysis\n\n# Information of data \ndata.info()\n\n# Statistical summary data\nprint(data.describe())\n",
      "metadata": {
        "trusted": true
      },
      "execution_count": 16,
      "outputs": [
        {
          "name": "stdout",
          "text": "<class 'pandas.core.frame.DataFrame'>\nRangeIndex: 1338 entries, 0 to 1337\nData columns (total 7 columns):\n #   Column    Non-Null Count  Dtype  \n---  ------    --------------  -----  \n 0   age       1338 non-null   int64  \n 1   sex       1338 non-null   object \n 2   bmi       1338 non-null   float64\n 3   children  1338 non-null   int64  \n 4   smoker    1338 non-null   object \n 5   region    1338 non-null   object \n 6   charges   1338 non-null   float64\ndtypes: float64(2), int64(2), object(3)\nmemory usage: 57.6+ KB\n               age          bmi     children       charges\ncount  1338.000000  1338.000000  1338.000000   1338.000000\nmean     39.207025    30.663397     1.094918  13270.422265\nstd      14.049960     6.098187     1.205493  12110.011237\nmin      18.000000    15.960000     0.000000   1121.873900\n25%      27.000000    26.296250     0.000000   4740.287150\n50%      39.000000    30.400000     1.000000   9382.033000\n75%      51.000000    34.693750     2.000000  16639.912515\nmax      64.000000    53.130000     5.000000  63770.428010\n",
          "output_type": "stream"
        }
      ]
    },
    {
      "cell_type": "code",
      "source": "# Correlation matrix\ncorrelation_matrix = data.corr()\nprint(\"Correlation Matrix:\")\nprint(correlation_matrix)\n",
      "metadata": {
        "trusted": true
      },
      "execution_count": 19,
      "outputs": [
        {
          "name": "stderr",
          "text": "<ipython-input-19-f6a0242401aa>:2: FutureWarning: The default value of numeric_only in DataFrame.corr is deprecated. In a future version, it will default to False. Select only valid columns or specify the value of numeric_only to silence this warning.\n  correlation_matrix = data.corr()\n",
          "output_type": "stream"
        },
        {
          "name": "stdout",
          "text": "Correlation Matrix:\n               age       bmi  children   charges\nage       1.000000  0.109272  0.042469  0.299008\nbmi       0.109272  1.000000  0.012759  0.198341\nchildren  0.042469  0.012759  1.000000  0.067998\ncharges   0.299008  0.198341  0.067998  1.000000\n",
          "output_type": "stream"
        }
      ]
    },
    {
      "cell_type": "code",
      "source": "# Other graphs (pairplot for numeric values)\nsns.pairplot(data)\nplt.show()",
      "metadata": {
        "trusted": true
      },
      "execution_count": 59,
      "outputs": []
    },
    {
      "cell_type": "code",
      "source": "# Other graphs (scatter plots, histograms, etc.)\ndata['column'].hist(bins=20, color='red', edgecolor='black')\nplt.xlabel('Smokers')\nplt.ylabel('Region')\nplt.title('Histogram of number smokers in each region')\nplt.show()\n\n\n# Relationships\nsns.jointplot(x=data['age'],y=data['charges'])\nsns.jointplot(x = data['smoker'],y = data['charges'])\nsns.jointplot(x=data['region'],y=data['charges'])\n",
      "metadata": {},
      "execution_count": null,
      "outputs": []
    },
    {
      "cell_type": "code",
      "source": "# Missing for outliers(Age, Children, BMI...)\nsns.boxplot(x=data['age'])\nplt.show()\n\nsns.boxplot(x=data['bmi'])\nplt.show()\n\nsns.boxplot(x=data['charges'])\nplt.show()\n",
      "metadata": {},
      "execution_count": null,
      "outputs": []
    },
    {
      "cell_type": "code",
      "source": "# C. Data Preparation\n#candidate checked only with isnull but better add sum to check number of nulls\nprint(data.isnull().sum())",
      "metadata": {
        "trusted": true
      },
      "execution_count": 29,
      "outputs": [
        {
          "name": "stdout",
          "text": "age         0\nsex         0\nbmi         0\nchildren    0\nsmoker      0\nregion      0\ncharges     0\ndtype: int64\n",
          "output_type": "stream"
        }
      ]
    },
    {
      "cell_type": "code",
      "source": "# Checking for missing values\ndata = data.dropna()\ndata.shape",
      "metadata": {
        "trusted": true
      },
      "execution_count": 21,
      "outputs": [
        {
          "execution_count": 21,
          "output_type": "execute_result",
          "data": {
            "text/plain": "(1338, 7)"
          },
          "metadata": {}
        }
      ]
    },
    {
      "cell_type": "code",
      "source": "# Categorical values encoding\ndata['sex'] = data['sex'].apply({'male':0, 'female':1}.get)\ndata['smoker'] = data['smoker'].apply({'yes':1, 'no':0}.get)\ndata['region'] = data['region'].apply({'southwest':1, 'southeast':2, 'northwest':3, \n'northeast':4}.get)",
      "metadata": {
        "trusted": true
      },
      "execution_count": 31,
      "outputs": []
    },
    {
      "cell_type": "code",
      "source": "# Split dataset into training and test sets; isolate the test set\nX = data[['age', 'bmi', 'children', 'smoker', 'region']]\ny = data['charges']\n\nX_train, X_test, y_train, y_test = train_test_split(X, y, test_size=0.2, random_state=1)",
      "metadata": {
        "trusted": true
      },
      "execution_count": 33,
      "outputs": []
    },
    {
      "cell_type": "code",
      "source": "# Standart Scaling\nscaler = StandardScaler()\ndata[['age', 'bmi', 'children']] = scaler.fit_transform(data[['age', 'bmi', 'children']])",
      "metadata": {
        "trusted": true
      },
      "execution_count": 34,
      "outputs": []
    },
    {
      "cell_type": "code",
      "source": "# D. Model training\n\n# Random Forest Regressor\nrf_model = RandomForestRegressor(n_estimators=100, random_state=42)\nrf_model.fit(X_train, y_train)\n\n# Linear Regression\nlr_model = LinearRegression()\nlr_model.fit(X_train, y_train)\n\n# Lasso Regression\nlasso = Lasso(alpha=0.1)  # alpha is the regularization strength\nlasso.fit(X_train, y_train)\n\n#Elastic net \nelastic = ElasticNet(alpha=0.1, l1_ratio=0.5)  # alpha is the regularization strength, l1_ratio is the mix parameter\nelastic.fit(X_train, y_train)\n",
      "metadata": {
        "trusted": true
      },
      "execution_count": 55,
      "outputs": [
        {
          "execution_count": 55,
          "output_type": "execute_result",
          "data": {
            "text/plain": "ElasticNet(alpha=0.1)",
            "text/html": "<style>#sk-container-id-2 {color: black;}#sk-container-id-2 pre{padding: 0;}#sk-container-id-2 div.sk-toggleable {background-color: white;}#sk-container-id-2 label.sk-toggleable__label {cursor: pointer;display: block;width: 100%;margin-bottom: 0;padding: 0.3em;box-sizing: border-box;text-align: center;}#sk-container-id-2 label.sk-toggleable__label-arrow:before {content: \"▸\";float: left;margin-right: 0.25em;color: #696969;}#sk-container-id-2 label.sk-toggleable__label-arrow:hover:before {color: black;}#sk-container-id-2 div.sk-estimator:hover label.sk-toggleable__label-arrow:before {color: black;}#sk-container-id-2 div.sk-toggleable__content {max-height: 0;max-width: 0;overflow: hidden;text-align: left;background-color: #f0f8ff;}#sk-container-id-2 div.sk-toggleable__content pre {margin: 0.2em;color: black;border-radius: 0.25em;background-color: #f0f8ff;}#sk-container-id-2 input.sk-toggleable__control:checked~div.sk-toggleable__content {max-height: 200px;max-width: 100%;overflow: auto;}#sk-container-id-2 input.sk-toggleable__control:checked~label.sk-toggleable__label-arrow:before {content: \"▾\";}#sk-container-id-2 div.sk-estimator input.sk-toggleable__control:checked~label.sk-toggleable__label {background-color: #d4ebff;}#sk-container-id-2 div.sk-label input.sk-toggleable__control:checked~label.sk-toggleable__label {background-color: #d4ebff;}#sk-container-id-2 input.sk-hidden--visually {border: 0;clip: rect(1px 1px 1px 1px);clip: rect(1px, 1px, 1px, 1px);height: 1px;margin: -1px;overflow: hidden;padding: 0;position: absolute;width: 1px;}#sk-container-id-2 div.sk-estimator {font-family: monospace;background-color: #f0f8ff;border: 1px dotted black;border-radius: 0.25em;box-sizing: border-box;margin-bottom: 0.5em;}#sk-container-id-2 div.sk-estimator:hover {background-color: #d4ebff;}#sk-container-id-2 div.sk-parallel-item::after {content: \"\";width: 100%;border-bottom: 1px solid gray;flex-grow: 1;}#sk-container-id-2 div.sk-label:hover label.sk-toggleable__label {background-color: #d4ebff;}#sk-container-id-2 div.sk-serial::before {content: \"\";position: absolute;border-left: 1px solid gray;box-sizing: border-box;top: 0;bottom: 0;left: 50%;z-index: 0;}#sk-container-id-2 div.sk-serial {display: flex;flex-direction: column;align-items: center;background-color: white;padding-right: 0.2em;padding-left: 0.2em;position: relative;}#sk-container-id-2 div.sk-item {position: relative;z-index: 1;}#sk-container-id-2 div.sk-parallel {display: flex;align-items: stretch;justify-content: center;background-color: white;position: relative;}#sk-container-id-2 div.sk-item::before, #sk-container-id-2 div.sk-parallel-item::before {content: \"\";position: absolute;border-left: 1px solid gray;box-sizing: border-box;top: 0;bottom: 0;left: 50%;z-index: -1;}#sk-container-id-2 div.sk-parallel-item {display: flex;flex-direction: column;z-index: 1;position: relative;background-color: white;}#sk-container-id-2 div.sk-parallel-item:first-child::after {align-self: flex-end;width: 50%;}#sk-container-id-2 div.sk-parallel-item:last-child::after {align-self: flex-start;width: 50%;}#sk-container-id-2 div.sk-parallel-item:only-child::after {width: 0;}#sk-container-id-2 div.sk-dashed-wrapped {border: 1px dashed gray;margin: 0 0.4em 0.5em 0.4em;box-sizing: border-box;padding-bottom: 0.4em;background-color: white;}#sk-container-id-2 div.sk-label label {font-family: monospace;font-weight: bold;display: inline-block;line-height: 1.2em;}#sk-container-id-2 div.sk-label-container {text-align: center;}#sk-container-id-2 div.sk-container {/* jupyter's `normalize.less` sets `[hidden] { display: none; }` but bootstrap.min.css set `[hidden] { display: none !important; }` so we also need the `!important` here to be able to override the default hidden behavior on the sphinx rendered scikit-learn.org. See: https://github.com/scikit-learn/scikit-learn/issues/21755 */display: inline-block !important;position: relative;}#sk-container-id-2 div.sk-text-repr-fallback {display: none;}</style><div id=\"sk-container-id-2\" class=\"sk-top-container\"><div class=\"sk-text-repr-fallback\"><pre>ElasticNet(alpha=0.1)</pre><b>In a Jupyter environment, please rerun this cell to show the HTML representation or trust the notebook. <br />On GitHub, the HTML representation is unable to render, please try loading this page with nbviewer.org.</b></div><div class=\"sk-container\" hidden><div class=\"sk-item\"><div class=\"sk-estimator sk-toggleable\"><input class=\"sk-toggleable__control sk-hidden--visually\" id=\"sk-estimator-id-2\" type=\"checkbox\" checked><label for=\"sk-estimator-id-2\" class=\"sk-toggleable__label sk-toggleable__label-arrow\">ElasticNet</label><div class=\"sk-toggleable__content\"><pre>ElasticNet(alpha=0.1)</pre></div></div></div></div></div>"
          },
          "metadata": {}
        }
      ]
    },
    {
      "cell_type": "code",
      "source": "# E. Model evaluation\n# Predict on the test set\nrf_preds = rf_model.predict(X_test)\nlr_preds = lr_model.predict(X_test)\nlasso_preds = lasso.predict(X_test)\nelastic_preds = elastic.predict(X_test)\n\n# Regression metrics\nprint(\"Random Forest Metrics:\")\nprint(\"MAE:\", mean_absolute_error(y_test, rf_preds))\nprint(\"MSE:\", mean_squared_error(y_test, rf_preds))\nprint(\"RMSE:\", math.sqrt(mean_squared_error(y_test, rf_preds)))\nprint(\"R-squared:\", r2_score(y_test, rf_preds))\n\n\nprint(\"Linear Regression Metrics:\")\nprint(\"MAE:\", mean_absolute_error(y_test, lr_preds))\nprint(\"MSE:\", mean_squared_error(y_test, lr_preds))\nprint(\"RMSE:\", math.sqrt(mean_squared_error(y_test, lr_preds)))\nprint(\"R-squared:\", r2_score(y_test, lr_preds))\n\nprint(\"Lasso Metrics:\")\nprint(\"MAE:\", mean_absolute_error(y_test, lasso_preds))\nprint(\"MSE:\", mean_squared_error(y_test, lasso_preds))\nprint(\"RMSE:\", math.sqrt(mean_squared_error(y_test, lasso_preds)))\nprint(\"R-squared:\", r2_score(y_test, lasso_preds))\n\nprint(\"Elastic net Metrics:\")\nprint(\"MAE:\", mean_absolute_error(y_test, elastic_preds))\nprint(\"MSE:\", mean_squared_error(y_test, elastic_preds))\nprint(\"RMSE:\", math.sqrt(mean_squared_error(y_test, elastic_preds)))\nprint(\"R-squared:\", r2_score(y_test, elastic_preds))\n\n\n# Confusion matrix is not applicable for regression tasks\n",
      "metadata": {
        "trusted": true
      },
      "execution_count": 58,
      "outputs": [
        {
          "name": "stdout",
          "text": "Random Forest Metrics:\nMAE: 2596.86941348332\nMSE: 20996746.452338\nRMSE: 4582.220690051713\nR-squared: 0.8593471564218195\nLinear Regression Metrics:\nMAE: 4058.7743990269228\nMSE: 35426968.29311936\nRMSE: 5952.055803931896\nR-squared: 0.7626820973862629\nLasso Metrics:\nMAE: 4058.8130496205385\nMSE: 35427153.29471496\nRMSE: 5952.071344894562\nR-squared: 0.7626808580989979\nElastic net Metrics:\nMAE: 4606.221698631367\nMSE: 41111053.465440676\nRMSE: 6411.79019193865\nR-squared: 0.7246055913693727\n",
          "output_type": "stream"
        }
      ]
    },
    {
      "cell_type": "code",
      "source": "",
      "metadata": {},
      "execution_count": null,
      "outputs": []
    }
  ]
}