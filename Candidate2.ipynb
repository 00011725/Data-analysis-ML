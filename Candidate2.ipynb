{
  "metadata": {
    "language_info": {
      "codemirror_mode": {
        "name": "python",
        "version": 3
      },
      "file_extension": ".py",
      "mimetype": "text/x-python",
      "name": "python",
      "nbconvert_exporter": "python",
      "pygments_lexer": "ipython3",
      "version": "3.8"
    },
    "kernelspec": {
      "name": "python",
      "display_name": "Python (Pyodide)",
      "language": "python"
    }
  },
  "nbformat_minor": 4,
  "nbformat": 4,
  "cells": [
    {
      "cell_type": "code",
      "source": "import pandas as pd\nimport seaborn as sns\nimport matplotlib.pyplot as plt\nfrom sklearn.model_selection import train_test_split\nfrom sklearn.preprocessing import LabelEncoder\nfrom sklearn.ensemble import RandomForestClassifier\nfrom sklearn.linear_model import LogisticRegression\nfrom sklearn.svm import SVC\nfrom sklearn.metrics import classification_report, accuracy_score, confusion_matrix, roc_auc_score, matthews_corrcoef\nfrom xgboost import XGBClassifier",
      "metadata": {
        "trusted": true
      },
      "execution_count": null,
      "outputs": []
    },
    {
      "cell_type": "code",
      "source": "# A. Data Load\n# Load the dataset as CSV file \ndata = pd.read_csv('advertsuccess.csv')\ndata.shape\n",
      "metadata": {
        "trusted": true
      },
      "execution_count": null,
      "outputs": []
    },
    {
      "cell_type": "code",
      "source": "# B. Exploratory Data Analysis\n\n# Information of data \ndata.info()\n\n# Statistical summary data\nprint(data.describe())\n",
      "metadata": {
        "trusted": true
      },
      "execution_count": null,
      "outputs": []
    },
    {
      "cell_type": "code",
      "source": "# Correlation matrix\ncorrelation_matrix = data.corr()\nsns.heatmap(correlation_matrix, annot=True, cmap='coolwarm', fmt=\".4f\")\nplt.title(\"Correlation Matrix\")\nplt.show()",
      "metadata": {
        "trusted": true
      },
      "execution_count": null,
      "outputs": []
    },
    {
      "cell_type": "code",
      "source": "# Other graphs (pairplot for numeric values)\nsns.pairplot(data)\nplt.show()\n",
      "metadata": {
        "trusted": true
      },
      "execution_count": null,
      "outputs": []
    },
    {
      "cell_type": "code",
      "source": "# Other graphs (scatter plots, histograms, etc.)\n\nsns.histplot(data['airtime'], bins=20, kde=True)\nplt.title(\"Histogram of Airtime\")\nplt.show()\n\n\nsns.scatterplot(x='ratings', y='netgain', data=data)\nplt.title(\"Scatter Plot of Ratings vs. Net Gain\")\nplt.show()\n\nsns.scatterplot(x='genre', y='netgain', data=data)\nplt.title(\"Scatter Plot of Genre vs. Net Gain\")\nplt.show()\n\n\n# Relationships\nsns.jointplot(x=data['industry'],y=data['netgain'])\nsns.jointplot(x = data['target_sex'],y = data['netgain'])\nsns.jointplot(x=data['relationship_status'],y=data['netgain'])\n",
      "metadata": {},
      "execution_count": null,
      "outputs": []
    },
    {
      "cell_type": "code",
      "source": "# Missing for outliers()\nsns.boxplot(x=data['netgain'])\nplt.show()\n\nsns.boxplot(x=data['ratings'])\nplt.show()\n\nsns.boxplot(x=data['airtime'])\nplt.show()\n",
      "metadata": {},
      "execution_count": null,
      "outputs": []
    },
    {
      "cell_type": "code",
      "source": "# C. Data Preparation\n# 2 candidate checked with isnull and sum\nprint(data.isnull().sum())",
      "metadata": {
        "trusted": true
      },
      "execution_count": null,
      "outputs": []
    },
    {
      "cell_type": "code",
      "source": "# Checking for missing values\ndata = data.dropna()\ndata.shape",
      "metadata": {
        "trusted": true
      },
      "execution_count": null,
      "outputs": []
    },
    {
      "cell_type": "code",
      "source": "# Categorical values encoding\ndata['targeted_sex'] = data['targeted_sex'].apply({'male':0, 'female':1}.get)\ndata['genre'] = data['genre'].apply({'horror':1, 'comedy':2}.get)\ndata['industry'] = data['industry'].apply({'pharma':1, 'cinema':2, 'food':3, \n'car':4}.get)",
      "metadata": {
        "trusted": true
      },
      "execution_count": null,
      "outputs": []
    },
    {
      "cell_type": "code",
      "source": "# Feature Engineering\ndata['genre_airlocation_interaction'] = data['genre'] * data['airlocation']",
      "metadata": {},
      "execution_count": null,
      "outputs": []
    },
    {
      "cell_type": "code",
      "source": "# Split dataset into training and test sets; isolate the test set\nX = data.drop('netgain', axis=1)\ny = data['netgain']\n\nX_train, X_test, y_train, y_test = train_test_split(X, y, test_size=0.2, random_state=1)",
      "metadata": {
        "trusted": true
      },
      "execution_count": null,
      "outputs": []
    },
    {
      "cell_type": "code",
      "source": "# Standart Scaling\nscaler = StandardScaler()\ndata[['ratings', 'average_runtime']] = scaler.fit_transform(data[['ratings', 'average_runtime']])",
      "metadata": {
        "trusted": true
      },
      "execution_count": null,
      "outputs": []
    },
    {
      "cell_type": "code",
      "source": "# D. Model training\n\n# Random Forest Classifier\n\nrf_model = RandomForestClassifier(random_state=0)\nrf_model.fit(X_train, y_train)\n\nlr_model = LogisticRegression(random_state=0)\nlr_model.fit(X_train, y_train)\n\nxgb_model = XGBClassifier(random_state=0)\nxgb_model.fit(X_train, y_train)\n\nsvm_model = SVC(random_state=0)\nsvm_model.fit(X_train, y_train)",
      "metadata": {
        "trusted": true
      },
      "execution_count": null,
      "outputs": []
    },
    {
      "cell_type": "code",
      "source": "# E. Model evaluation\n# Predict on the test set\n# Confusion matrix \ndef evaluate_model(model, X_test, y_test):\n    y_pred = model.predict(X_test)\n    accuracy = accuracy_score(y_test, y_pred)\n    report = classification_report(y_test, y_pred)\n    conf_matrix = confusion_matrix(y_test, y_pred)\n    roc_auc = roc_auc_score(y_test, y_pred)\n    mcc = matthews_corrcoef(y_test, y_pred)\n    return accuracy, report, conf_matrix, roc_auc, mcc\n\n# Evaluate Random Forest model\nrf_accuracy, rf_report, rf_conf_matrix, rf_roc_auc, rf_mcc = evaluate_model(rf_model, X_test, y_test)\nprint(\"Random Forest Accuracy:\", rf_accuracy)\nprint(\"Random Forest Classification Report:\")\nprint(rf_report)\nprint(\"Random Forest Confusion Matrix:\")\nprint(rf_conf_matrix)\nprint(\"Random Forest ROC AUC:\", rf_roc_auc)\nprint(\"Random Forest Matthews Correlation Coefficient:\", rf_mcc)\n\n# Evaluate Logistic Regression model\nlr_accuracy, lr_report, lr_conf_matrix, lr_roc_auc, lr_mcc = evaluate_model(lr_model, X_test, y_test)\nprint(\"\\nLogistic Regression Accuracy:\", lr_accuracy)\nprint(\"Logistic Regression Classification Report:\")\nprint(lr_report)\nprint(\"Logistic Regression Confusion Matrix:\")\nprint(lr_conf_matrix)\nprint(\"Logistic Regression ROC AUC:\", lr_roc_auc)\nprint(\"Logistic Regression Matthews Correlation Coefficient:\", lr_mcc)\n\n# Evaluate XGBoost model\nxgb_accuracy, xgb_report, xgb_conf_matrix, xgb_roc_auc, xgb_mcc = evaluate_model(xgb_model, X_test, y_test)\nprint(\"\\nXGBoost Accuracy:\", xgb_accuracy)\nprint(\"XGBoost Classification Report:\")\nprint(xgb_report)\nprint(\"XGBoost Confusion Matrix:\")\nprint(xgb_conf_matrix)\nprint(\"XGBoost ROC AUC:\", xgb_roc_auc)\nprint(\"XGBoost Matthews Correlation Coefficient:\", xgb_mcc)\n\n# Evaluate SVM model\nsvm_accuracy, svm_report, svm_conf_matrix, svm_roc_auc, svm_mcc = evaluate_model(svm_model, X_test, y_test)\nprint(\"\\nSVM Accuracy:\", svm_accuracy)\nprint(\"SVM Classification Report:\")\nprint(svm_report)\nprint(\"SVM Confusion Matrix:\")\nprint(svm_conf_matrix)\nprint(\"SVM ROC AUC:\", svm_roc_auc)\nprint(\"SVM Matthews Correlation Coefficient:\", svm_mcc)\n\n",
      "metadata": {
        "trusted": true
      },
      "execution_count": null,
      "outputs": []
    },
    {
      "cell_type": "code",
      "source": "",
      "metadata": {},
      "execution_count": null,
      "outputs": []
    }
  ]
}